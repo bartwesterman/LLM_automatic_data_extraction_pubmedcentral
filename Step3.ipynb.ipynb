# Step 3 GPT4.1 mediated extraction with cue-speed control
!pip install tiktoken
import os
import re
import json
import time
import pandas as pd
import openai
import tiktoken  # Install with: pip install tiktoken

# --- OpenAI Setup --- #
openai.api_key = "sk-proj-..." # see https://openai.com/api/
client = openai.OpenAI(api_key=openai.api_key)

# --- Path Setup --- #
folder_path = r"C:\Users\Bart Westerman XPS\AppData\Local\Programs\Python\Python36-32\extracted_text_n20"
output_csv = os.path.join(folder_path, "drug_annotation_results.csv")
drug_csv_path = r"C:\Users\Bart Westerman XPS\AppData\Local\Programs\Python\Python36-32\drug_synonym_search_results.csv"

# --- Load Drug List from CSV --- #
try:
    drug_df = pd.read_csv(drug_csv_path)
    drug_list = set(str(drug).strip().lower() for drug in drug_df.iloc[:, 0].dropna().unique())
except Exception as e:
    print(f"❌ Failed to read drug list from CSV: {e}")
    drug_list = set()

# --- File Filter --- #
file_names = [f for f in os.listdir(folder_path) if f.endswith(".txt")]

# --- Token Encoder & Rate Limit Setup --- #
encoding = tiktoken.encoding_for_model("gpt-4")
tokens_used_this_minute = 0
last_reset_time = time.time()

# --- Annotation Extraction Function --- #
def extract_annotations(text):
    global tokens_used_this_minute, last_reset_time

    prompt = f"""
You are an expert biomedical text annotator. From the following paragraph, extract:

1. **Drug** (e.g., "doxorubicin")
2. **Concentration** (e.g. μM or nM) 
3. **Effects** (e.g., "IC50", "reduced cell viability", "caused mitotic arrest")
4. **Cell line model** (e.g., "HeLa", "MCF-7", etc.)

Return a structured JSON list of objects, where each object includes:
- drug
- concentration
- effect
- cell_line

Example format:
[
  {{
    "drug": "doxorubicin",
    "concentration": "5 μM",
    "effect": "IC50",
    "cell_line": "MCF-7"
  }},
  ...
]

Here is the paragraph:
\"\"\"
{text}
\"\"\"
"""

    # --- Rate Limiting --- #
    current_time = time.time()
    elapsed = current_time - last_reset_time

    if elapsed >= 60:
        tokens_used_this_minute = 0
        last_reset_time = current_time

    token_estimate = len(encoding.encode(prompt))
    if tokens_used_this_minute + token_estimate >= 30000:
        wait_time = 60 - elapsed
        print(f"⏳ Waiting {wait_time:.1f}s to respect token limit...")
        time.sleep(wait_time)
        tokens_used_this_minute = 0
        last_reset_time = time.time()

    tokens_used_this_minute += token_estimate

    # --- API Request --- #
    try:
        response = client.chat.completions.create(
            model="gpt-4.1",
            messages=[{"role": "user", "content": prompt}],
            temperature=0,
        )
        reply = response.choices[0].message.content
        annotations = json.loads(reply)
        return annotations
    except json.JSONDecodeError:
        print("⚠️ JSON decoding failed. Raw response:")
        print(reply)
        return None
    except Exception as e:
        print(f"❌ API request failed: {e}")
        return None

# --- Collect and Filter Annotations --- #
rows = []

for file_name in file_names:
    match = re.match(r"extracted_text_(\d+)_([^.]+)\.txt", file_name)
    if not match:
        print(f"❌ Skipping unrecognized file format: {file_name}")
        continue

    pmcid_raw, _ = match.groups()
    pmcid = f"pmcid{pmcid_raw}"

    file_path = os.path.join(folder_path, file_name)
    with open(file_path, "r", encoding="utf-8") as f:
        text = f.read()

    print(f"\n📄 Processing: {file_name}")
    annotations = extract_annotations(text)

    if annotations:
        for ann in annotations:
            drug_mentioned = ann.get("drug", "").strip().lower()
            if drug_mentioned in drug_list:
                rows.append({
                    "pmcid": pmcid,
                    "drug": ann.get("drug", ""),
                    "concentration": ann.get("concentration", ""),
                    "effect": ann.get("effect", ""),
                    "cell_line": ann.get("cell_line", "")
                })

# --- Save Results --- #
if rows:
    df = pd.DataFrame(rows)
    df.to_csv(output_csv, index=False)
    print(f"\n✅ Results saved to: {output_csv}")
else:
    print("❌ No valid annotations matched the drug list.")